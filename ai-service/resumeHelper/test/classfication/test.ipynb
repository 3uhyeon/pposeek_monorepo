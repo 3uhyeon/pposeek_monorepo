{
 "cells": [
  {
   "cell_type": "code",
   "execution_count": 1,
   "id": "5cc16ad2",
   "metadata": {},
   "outputs": [
    {
     "name": "stdout",
     "output_type": "stream",
     "text": [
      "1.26.4\n",
      "True\n",
      "True\n"
     ]
    }
   ],
   "source": [
    "import numpy as np\n",
    "print(np.__version__)\n",
    "print(hasattr(np, \"ctypeslib\"))\n",
    "print(hasattr(np, \"broadcast_to\"))"
   ]
  },
  {
   "cell_type": "code",
   "execution_count": 4,
   "id": "d6dbded4",
   "metadata": {},
   "outputs": [
    {
     "name": "stdout",
     "output_type": "stream",
     "text": [
      "[[0.99227788]]\n"
     ]
    }
   ],
   "source": [
    "from sklearn.metrics.pairwise import cosine_similarity\n",
    "import numpy as np\n",
    "\n",
    "a = np.array([[1, 2]])\n",
    "b = np.array([[2, 3]])\n",
    "print(cosine_similarity(a, b))  # → [[0.9926...]]\n"
   ]
  },
  {
   "cell_type": "code",
   "execution_count": 5,
   "id": "744a33c2",
   "metadata": {},
   "outputs": [],
   "source": [
    "import os\n",
    "import json\n",
    "import numpy as np\n",
    "from langchain.embeddings import AzureOpenAIEmbeddings\n",
    "from sklearn.metrics.pairwise import cosine_similarity\n",
    "import sys\n",
    "import os\n",
    "sys.path.append(os.path.abspath(os.path.join(os.getcwd(), \"../..\")))\n",
    "from config import settings\n",
    "\n"
   ]
  },
  {
   "cell_type": "code",
   "execution_count": 7,
   "id": "ab065ef8",
   "metadata": {},
   "outputs": [],
   "source": [
    "# 1. 특성 불러오기\n",
    "load_path = os.path.abspath(os.path.join(os.getcwd(), \"../../test/autotextrecognation/resources/llm_features.json\"))\n",
    "with open(load_path, \"r\", encoding=\"utf-8\") as f:\n",
    "    features = json.load(f)\n",
    "\n",
    "feature_everyday = features[\"everyday\"]\n",
    "feature_work = features[\"work\"]\n"
   ]
  },
  {
   "cell_type": "code",
   "execution_count": 8,
   "id": "07bf329f",
   "metadata": {},
   "outputs": [
    {
     "name": "stderr",
     "output_type": "stream",
     "text": [
      "/var/folders/wy/_jj74ny11pd8y1qwn7xj5vc80000gn/T/ipykernel_23831/3472893788.py:2: LangChainDeprecationWarning: The class `AzureOpenAIEmbeddings` was deprecated in LangChain 0.0.9 and will be removed in 1.0. An updated version of the class exists in the :class:`~langchain-openai package and should be used instead. To use it run `pip install -U :class:`~langchain-openai` and import as `from :class:`~langchain_openai import AzureOpenAIEmbeddings``.\n",
      "  embedding_model = AzureOpenAIEmbeddings(\n"
     ]
    }
   ],
   "source": [
    "# 2. Azure OpenAI 임베딩 모델 초기화\n",
    "embedding_model = AzureOpenAIEmbeddings(\n",
    "    azure_deployment=settings.EMBEDDING_DEPLOYMENT,\n",
    "    openai_api_key=settings.EMBEDDING_API_KEY,\n",
    "    openai_api_version=settings.EMBEDDING_API_VERSION,\n",
    "    azure_endpoint=settings.EMBEDDING_ENDPOINT,\n",
    "    chunk_size = settings.EMBEDDING_CHUNK_SIZE\n",
    ")\n",
    "\n"
   ]
  },
  {
   "cell_type": "code",
   "execution_count": 9,
   "id": "d0f7e3f9",
   "metadata": {},
   "outputs": [],
   "source": [
    "# 3. 특성 벡터 임베딩\n",
    "vector_everyday = embedding_model.embed_query(feature_everyday)\n",
    "vector_work = embedding_model.embed_query(feature_work)\n",
    "\n"
   ]
  },
  {
   "cell_type": "code",
   "execution_count": 10,
   "id": "c3d60195",
   "metadata": {},
   "outputs": [
    {
     "name": "stdout",
     "output_type": "stream",
     "text": [
      "문장: 오늘 점심에 뭐 먹지?\n",
      "🟦 일상 유사도: 0.7899\n",
      "🟥 업무 유사도: 0.7232\n",
      "✅ 분류 결과: 일상\n",
      "\n",
      "문장: 포트폴리오에 기술 스택을 잘 정리해 주세요.\n",
      "🟦 일상 유사도: 0.7722\n",
      "🟥 업무 유사도: 0.8085\n",
      "✅ 분류 결과: 업무\n",
      "\n",
      "문장: 날씨가 좋아서 산책 다녀왔어.\n",
      "🟦 일상 유사도: 0.8019\n",
      "🟥 업무 유사도: 0.7276\n",
      "✅ 분류 결과: 일상\n",
      "\n",
      "문장: 이번 프로젝트 마감은 언제인가요?\n",
      "🟦 일상 유사도: 0.7721\n",
      "🟥 업무 유사도: 0.7611\n",
      "✅ 분류 결과: 일상\n",
      "\n"
     ]
    }
   ],
   "source": [
    "# 4. 분류 함수 정의\n",
    "def classify_by_similarity(text: str) -> str:\n",
    "    text_vector = embedding_model.embed_query(text)\n",
    "\n",
    "    # Cosine 유사도 계산\n",
    "    sim_everyday = cosine_similarity([text_vector], [vector_everyday])[0][0]\n",
    "    sim_work = cosine_similarity([text_vector], [vector_work])[0][0]\n",
    "\n",
    "    classification = \"일상\" if sim_everyday > sim_work else \"업무\"\n",
    "\n",
    "    print(f\"문장: {text}\")\n",
    "    print(f\"🟦 일상 유사도: {sim_everyday:.4f}\")\n",
    "    print(f\"🟥 업무 유사도: {sim_work:.4f}\")\n",
    "    print(f\"✅ 분류 결과: {classification}\\n\")\n",
    "\n",
    "    return classification\n",
    "\n",
    "# 5. 테스트 문장\n",
    "test_sentences = [\n",
    "    \"오늘 점심에 뭐 먹지?\",\n",
    "    \"포트폴리오에 기술 스택을 잘 정리해 주세요.\",\n",
    "    \"날씨가 좋아서 산책 다녀왔어.\",\n",
    "    \"이번 프로젝트 마감은 언제인가요?\",\n",
    "]\n",
    "\n",
    "for sentence in test_sentences:\n",
    "    classify_by_similarity(sentence)\n"
   ]
  }
 ],
 "metadata": {
  "kernelspec": {
   "display_name": "rounders",
   "language": "python",
   "name": "python3"
  },
  "language_info": {
   "codemirror_mode": {
    "name": "ipython",
    "version": 3
   },
   "file_extension": ".py",
   "mimetype": "text/x-python",
   "name": "python",
   "nbconvert_exporter": "python",
   "pygments_lexer": "ipython3",
   "version": "3.10.18"
  }
 },
 "nbformat": 4,
 "nbformat_minor": 5
}
