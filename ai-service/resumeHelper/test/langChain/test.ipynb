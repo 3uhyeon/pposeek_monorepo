{
 "cells": [
  {
   "cell_type": "code",
   "execution_count": 1,
   "id": "d9196f6f",
   "metadata": {},
   "outputs": [],
   "source": [
    "import os\n",
    "from langchain.document_loaders import PyPDFLoader\n",
    "from langchain.embeddings import AzureOpenAIEmbeddings\n",
    "from langchain.vectorstores import FAISS\n",
    "from langchain.text_splitter import CharacterTextSplitter\n",
    "from langchain.chains import RetrievalQA\n",
    "from langchain.chat_models import AzureChatOpenAI\n",
    "\n"
   ]
  },
  {
   "cell_type": "code",
   "execution_count": 2,
   "id": "2a54ca93",
   "metadata": {},
   "outputs": [
    {
     "name": "stdout",
     "output_type": "stream",
     "text": [
      "Loaded 4 pages from the PDF document.\n",
      "pages: [Document(metadata={'producer': 'Hancom PDF 1.3.0.550', 'creator': 'Hwp 2018 10.0.0.14515', 'creationdate': '2025-06-16T21:51:53+09:00', 'author': 'USER', 'moddate': '2025-06-16T21:51:53+09:00', 'pdfversion': '1.4', 'source': 'docs/sample.pdf', 'total_pages': 4, 'page': 0, 'page_label': '1'}, page_content='핵심 역량 / Strength   - Python을 활용한 역산 및 최적화 프로그램 개발 경험 중앙대학교 도로교통 연구실에서 Python을 활용하여 활주로 최적화 및 도로 균열 예측 시스템을 개발하였습니다. 데이터 수집, 전처리, 시각화 및 알고리즘 구현 등 전체 파이프라인에 참여하여 실질적인 분석 및 개선 성과를 이끌었습니다.   - 임베디드 시스템을 활용한 빌딩 환경 측정 플랫폼 구축 경험Esp32와 C를 기반으로 한 IoT 디바이스를 구축하고, 수집된 데이터를 MySQL 및 Grafana로 시각화하는 전          주기 개발 경험을 보유하고 있습니다.   - 모바일 프론트엔드 개발 및 팀 리딩 경험 (React Native)KAIST App 창업 프로그램에서 건설 유지보수 관련 앱을 개발하며 프론트엔드 파트를 리딩하였습니다. React Native를 활용한 UI 구성, API 연동, 사용자 편의성 개선에 주력하여 실제 서비스를 배포하였습니다.    - 글로벌 협업 기반의 웹 개발 경험캐나다 Tamwood Web-Developer Co-op 과정 중 다양한 국적의 개발자들과 팀을 이루어 소셜미디어, 미니게임 등 웹 기반 토이 프로젝트를 React와 Node.js를 활용해 개발하며 영어 소통 및 협업 역량을 키웠습니다.학력 사항 /  Educational Qualifications   - 기간 : 2017.03 ~ 2025.08    - 학교명 : 성공회대(졸업예정)   - 전공 : 소프트웨어 공학 / 정보통신 공학 (3.46/4.5) 경력 사항 / Work Experience기 업 명재직 기간부서명/업무내용중앙대학교 산학협력단 (도로교통 연구실)2021.03 ~ 2022.01활주로 최적화를 위한 역산 알고리즘 기반 시뮬레이션 SI 개발틈새투수 점토 블록 실용화 실증을 위한 데이터 수집 및 분석 툴 개발 (Python)Esp32 및 IoT 센서를 활용한 실내 환경 측정 플랫폼 제작 및 데이터 시각화 (MySQL, Grafana)대내외 활동 / Extracurricular Activity\\n박수범\\nEmailqkrtnqja97@gmail.comMobile010-2898-3951생년월일1997.02.04주소경기도 부천시 은성로172-17Githubhttps://github.com/qkrtnqja97LinkedIn\\n활 동 명활동 기간활동내용캐나다(Tamwood)Web -Develop er Co-op 과정2023.05 ~ 2023.10영어 기반의 프론트엔드 집중 교육 및 실습현지 개발자들과 협업하여 React 기반 토이 프로젝트 다수 진행'), Document(metadata={'producer': 'Hancom PDF 1.3.0.550', 'creator': 'Hwp 2018 10.0.0.14515', 'creationdate': '2025-06-16T21:51:53+09:00', 'author': 'USER', 'moddate': '2025-06-16T21:51:53+09:00', 'pdfversion': '1.4', 'source': 'docs/sample.pdf', 'total_pages': 4, 'page': 1, 'page_label': '2'}, page_content='교육 사항 / Education Experience교육기관명교육기간교육내용캐나다(Tamwood)Web-Developer Co-op 과정2023.05 ~ 2023.10HTML, CSS, JavaScript, Git 등 웹 개발 기초부터 React를 활용한 프로젝트까지 수료 KAIST App 창업프로그램 4기2024.11 ~ 2025.02Figma, React, Spring 기반 서비스 기획 및 MVP 개발창업 실무 및 기술 워크숍을 병행한 실습 위주의 교육 과정MICROSOFT AI 엔지니어 과정2025.05 ~ 2025.08최신 AI 기술 및 Azure 기반의 머신러닝/딥러닝 실습 예정자격증 및 수료증/ Certificate자격명취득 일자주관기관리눅스 마스터2급2025.04정보통신기술자격검정오픽 (IH)2025.04ACTFLSW역량/ Skill Set (Programming Languages, Framework, Library, Server, ETC)보유기술수  준 상세 내용Python중데이터 전처리, 분석, 시각화 (Pandas, Matplotlib) 경험 및 알고리즘 기반 시스템 개발JS(TS)중React, React Native 기반 UI 개발 및 API 연동 경험, 동적 UI 컴포넌트 구현MySQL하~중기본적인 데이터 모델링, 쿼리 작성 및 운영 환경에서 사용 경험기타 해당여부체크구분병과계급면제(사유)필 병장복무기간2017.10 ~ 2019.07국가유공 / 장애우대 / 생활보호대상\\n KAIST App 창업 4기 (동상) 2024.11 ~ 2025.02건설 유지보수 전용 모바일 어플리케이션 개발프론트엔드 파트장으로서 UI 기획 및 React Native 개발 주도어플리케이션 출시까지 팀 전체 개발 일정 조율 및 관리'), Document(metadata={'producer': 'Hancom PDF 1.3.0.550', 'creator': 'Hwp 2018 10.0.0.14515', 'creationdate': '2025-06-16T21:51:53+09:00', 'author': 'USER', 'moddate': '2025-06-16T21:51:53+09:00', 'pdfversion': '1.4', 'source': 'docs/sample.pdf', 'total_pages': 4, 'page': 2, 'page_label': '3'}, page_content='자기소개서<직무 성장과정 ( 자기소개 )>어떤 특정 기술만 잘하는 개발자가 아닌, 스스로 기획하고, 문제를 정의하고, 직접 구현해나가는 진짜 ‘개발자’가 되고 싶었습니다. 저는 컴퓨터 시스템을 통해 세상을 더 편리하게 만들 수 있다는 점에서 매력을 느껴, AI 개발자와 SI/웹앱 개발자를 주요 진로로 설정하게 되었습니다.처음에는 단순히 점수에 맞춰 컴퓨터 관련 학과에 진학했지만, 타 대학원 연구실에서 프로그램을 개발하며 누군가의 삶을 편리하게 만든다는 기쁨을 처음 느꼈습니다. 그 경험은 단순한 ‘코딩’이 아닌, 실질적인 ‘창조’의 즐거움을 알려주었고, 이후 다양한 프로젝트에 직접 참여하며 실력을 쌓아왔습니다.중앙대학교 산학협력단 도로교통 연구실에서는 Python 기반의 도로 균열 예측 시스템, 점토 블록 성능 시각화 도구, 환경 센서 기반 플랫폼 등 공공 R&D 프로젝트에 직접 참여했습니다. 이를 통해 데이터 수집-처리-시각화까지 전체 흐름을 설계하고 구현하는 능력을 갖추게 되었으며, 임베디드 시스템과 웹 기반 시각화 기술도 자연스럽게 익혔습니다.이후 캐나다 Web Developer Co-op 과정과 KAIST App 창업 4기 활동을 통해 프론트엔드 개발과 협업 경험을 쌓았습니다. React 및 React Native 기반으로 웹/앱 서비스를 구현하고, API 연동 및 빌드/배포까지 담당하면서 사용자 경험과 기술 완성도 사이의 균형을 체득했습니다. 특히, 건설 유지보수 앱 개발 프로젝트에서는 백엔드와 실시간 소통하며 문제를 해결하고, Google Play 배포까지 성공적으로 완료하며 성과를 인정받았습니다.저는 앞으로 프론트엔드/백엔드처럼 기술 스택의 구분에만 머무는 개발자가 아니라, AI를 직접 개발하거나, AI 기반 서비스를 기획하고 구현하는 개발자로 성장하고 싶습니다. 이를 위해 다양한 기술을 유연하게 넘나들며, 사용자 중심의 문제 해결 능력과 창의적 사고를 계속 확장해나가고 있습니다. 궁극적으로는 글로벌 벤더에서 일하며, 더 많은 사람들의 삶에 영향을 줄 수 있는 서비스를 만들고 싶습니다.\\n<직무상 강점>문제 정의부터 해결까지, 전 과정 경험중앙대학교 산학협력단 연구실에서 진행한 공공 R&D 프로젝트를 통해 단순한 기능 구현을 넘어서, 문제를 정의하고 실험과 분석, 개선안 도출까지 전 과정을 직접 경험했습니다.Python을 활용한 도로 균열 예측 시스템 개발과 센서 기반 환경 측정 플랫폼 구축은 저에게 데이터 처리, 임베디드 시스템, 시각화 기술을 아우르는 실전 역량을 쌓게 해주었습니다.풀스택 실무 경험과 주도적 참여React와 React Native를 기반으로 한 여러 프로젝트에서 UI 구현부터 API 연동, AAB 빌드 및 배포까지 개발의 전체 흐름을 이해하며 주도적으로 참여했습니다.특히 KAIST App 창업 프로젝트에서는 프론트엔드 파트장으로서 UI 설계와 팀원 간 협업, 빌드 문제 해결 등 다양한 기술적 난관을 극복하며 프로젝트를 완성했습니다.다양한 기술 스택과 융합 능력Python, JavaScript, Arduino IDE, ESP32, MySQL, Grafana 등 여러 기술을 접목해가며 프론트엔드뿐 아니라 하드웨어, 데이터베이스, 시각화 도구까지 폭넓게 다뤄본 경험이 있습니다.이러한 경험을 통해 특정 기술에만 의존하지 않고 문제에 가장 적합한 기술을 선택해 유기적으로 연결하는 능력을 키웠습니다.협업과 해외 경험으로 키운 소통 능력캐나다 Co-op 과정에서는 외국인 개발자들과 협업하며 언어와 문화 차이를 극복하는 경험을 했습니다.백엔드 개발자, 디자이너 등 다양한 직군과 함께 일하며 유연한 커뮤니케이션과 문제 해결 능력을 갖추게 되었습니다.'), Document(metadata={'producer': 'Hancom PDF 1.3.0.550', 'creator': 'Hwp 2018 10.0.0.14515', 'creationdate': '2025-06-16T21:51:53+09:00', 'author': 'USER', 'moddate': '2025-06-16T21:51:53+09:00', 'pdfversion': '1.4', 'source': 'docs/sample.pdf', 'total_pages': 4, 'page': 3, 'page_label': '4'}, page_content=\"위의 기재한 내용은 사실과 다름없음을 확인합니다.지원자         박수범    (인)\\nAI 기반 융합 개발자로 성장할 포부저는 단순히 프론트엔드나 백엔드 개발에 머무르지 않고, AI 기술과 서비스를 융합하여 실질적인 가치를 제공하는 개발자가 되고자 합니다.향후 AI 기반 솔루션을 직접 기획하고 구현할 수 있는 융합형 개발자로 성장할 잠재력을 갖추고 있습니다.<가장 힘들었던 경험 / 도전적인 활동>제가 가장 도전적으로 느꼈던 경험은 대학교 연구실에서 실사용자 요구 기반으로 두 개의 실무 프로젝트를 주도 개발했던 경험입니다.하나는 국토교통부와 공항공사 과제에 참여한 활주로 최적화 시스템 개발이었습니다.비행기 종류별 수명 예측, 유전 알고리즘과 하모니 서치를 이용한 최적 개선안 도출 등 고도화된 로직을 Python으로 구현했고, 이를 시각화하여 정책 제안이 가능한 형태로 만들었습니다.기존 MATLAB 기반 알고리즘을 Python으로 이식하는 과정에서 로직을 구조적으로 이해하고 다시 설계하는 과정은 쉽지 않았지만, 구글링과 문서 분석을 통해 해결해냈습니다.또 하나는 ESP32 기반의 빌딩 환경 측정 플랫폼개발이었습니다.온습도, CO₂ 센서 등의 값을 디지털 신호로 받아 사람이 이해하기 쉬운 단위로 정규화하고, 실시간으로 서버에 저장 및 시각화하는 시스템을 처음부터 설계했습니다.센서마다 값이 다르고 노이즈도 많아, 입력을 표준화하고 오차를 줄이는 과정을 반복하며 임베디드 개발, 데이터 처리, 시각화까지 전 과정을 혼자 담당했습니다.두 프로젝트 모두 생소한 도메인의 문제를 처음부터 끝까지 스스로 해결해야 했고, 당시 GPT도 없어서 대부분 유튜브와 기술 블로그, 공식 문서 등을 참고해 개발했습니다.이 경험들을 통해, 저는 단순히 코드를 짜는 것이 아닌 현실 문제를 기술로 풀어내는 개발자의 역할을 체감했고, 모르는 영역이라도 배우며 해결할 수 있다는 자신감을 갖게 되었습니다.<직무와 관련된 열정, 입사 후 포부>저는 단순히 기술을 사용하는 것을 넘어, 현실의 문제를 기술로 해결하는 과정에 큰 열정을 가지고 있습니다.대학 시절, 연구실 프로젝트를 통해 도메인 지식이 전혀 없던 토목·건축 분야의 문제를 직접 이해하고,Python 기반의 최적화 시스템과 임베디드 센서 플랫폼을 스스로 설계하고 구현하는 과정을 겪으며,**'실제 사용자에게 필요한 기술을 만들고 개선해 나가는 것'**이 얼마나 보람찬 일인지 체감했습니다.개발 중 마주한 생소한 라이브러리, 낯선 데이터 형식, 실시간 시스템 설계 등은 매 순간 도전이었지만,제가 만든 기능을 기반으로 연구가 진행되고, 실제 결과물이 현장에서 활용될 때 큰 자부심을 느꼈습니다.이 과정에서, 사용자 중심의 사고와 문제 해결 능력, 그리고 도메인을 빠르게 파악해 개발에 녹여내는 능력을 키울 수 있었습니다.입사 후에는 이러한 역량을 바탕으로, 단순한 기능 구현을 넘어 제품의 '가치'를 함께 고민하는 개발자가 되고 싶습니다.특히 실무 환경에서 팀원들과의 긴밀한 협업을 통해 기획부터 유지보수까지 전 과정에 적극 참여하고,스스로 기술을 배우고 적용하며 성장하는 자세로 빠르게 적응하겠습니다.더 나아가, 제가 만든 기능이 사용자에게 실질적인 도움을 주고,회사가 추구하는 서비스의 방향성과 맞닿아 있다는 것을 체감하며 일하고 싶습니다.이를 위해 매 개발마다 목적을 명확히 하고, 유지보수성과 사용자 경험을 고려한 설계를 지속적으로 연습할 것입니다.\")] \n",
      "\n",
      "First page content: 핵심 역량 / Strength   - Python을 활용한 역산 및 최적화 프로그램 개발 경험 중앙대학교 도로교통 연구실에서 Python을 활용하여 활주로 최적화 및 도로 균열 예측 시스템을 개발하였습니다. 데이터 수집, 전처리, 시각화 및 알고리즘 구현 등 전체 파이프라인에 참여하여 실질적인 분석 및 개선 성과를 이끌었습니다.   - 임베디드 시스템을 활...\n",
      "pages: 핵심 역량 / Strength   - Python을 활용한 역산 및 최적화 프로그램 개발 경험 중앙대학교 도로교통 연구실에서 Python을 활용하여 활주로 최적화 및 도로 균열 예측 시스템을 개발하였습니다. 데이터 수집, 전처리, 시각화 및 알고리즘 구현 등 전체 파이프라인에 참여하여 실질적인 분석 및 개선 성과를 이끌었습니다.   - 임베디드 시스템을 활용한 빌딩 환경 측정 플랫폼 구축 경험Esp32와 C를 기반으로 한 IoT 디바이스를 구축하고, 수집된 데이터를 MySQL 및 Grafana로 시각화하는 전          주기 개발 경험을 보유하고 있습니다.   - 모바일 프론트엔드 개발 및 팀 리딩 경험 (React Native)KAIST App 창업 프로그램에서 건설 유지보수 관련 앱을 개발하며 프론트엔드 파트를 리딩하였습니다. React Native를 활용한 UI 구성, API 연동, 사용자 편의성 개선에 주력하여 실제 서비스를 배포하였습니다.    - 글로벌 협업 기반의 웹 개발 경험캐나다 Tamwood Web-Developer Co-op 과정 중 다양한 국적의 개발자들과 팀을 이루어 소셜미디어, 미니게임 등 웹 기반 토이 프로젝트를 React와 Node.js를 활용해 개발하며 영어 소통 및 협업 역량을 키웠습니다.학력 사항 /  Educational Qualifications   - 기간 : 2017.03 ~ 2025.08    - 학교명 : 성공회대(졸업예정)   - 전공 : 소프트웨어 공학 / 정보통신 공학 (3.46/4.5) 경력 사항 / Work Experience기 업 명재직 기간부서명/업무내용중앙대학교 산학협력단 (도로교통 연구실)2021.03 ~ 2022.01활주로 최적화를 위한 역산 알고리즘 기반 시뮬레이션 SI 개발틈새투수 점토 블록 실용화 실증을 위한 데이터 수집 및 분석 툴 개발 (Python)Esp32 및 IoT 센서를 활용한 실내 환경 측정 플랫폼 제작 및 데이터 시각화 (MySQL, Grafana)대내외 활동 / Extracurricular Activity\n",
      "박수범\n",
      "Emailqkrtnqja97@gmail.comMobile010-2898-3951생년월일1997.02.04주소경기도 부천시 은성로172-17Githubhttps://github.com/qkrtnqja97LinkedIn\n",
      "활 동 명활동 기간활동내용캐나다(Tamwood)Web -Develop er Co-op 과정2023.05 ~ 2023.10영어 기반의 프론트엔드 집중 교육 및 실습현지 개발자들과 협업하여 React 기반 토이 프로젝트 다수 진행 \n",
      "\n",
      "text_splitter: <langchain_text_splitters.character.CharacterTextSplitter object at 0x104927040> \n",
      "\n",
      "Split into 4 chunks.\n",
      "docs: [Document(metadata={'producer': 'Hancom PDF 1.3.0.550', 'creator': 'Hwp 2018 10.0.0.14515', 'creationdate': '2025-06-16T21:51:53+09:00', 'author': 'USER', 'moddate': '2025-06-16T21:51:53+09:00', 'pdfversion': '1.4', 'source': 'docs/sample.pdf', 'total_pages': 4, 'page': 0, 'page_label': '1'}, page_content='핵심 역량 / Strength   - Python을 활용한 역산 및 최적화 프로그램 개발 경험 중앙대학교 도로교통 연구실에서 Python을 활용하여 활주로 최적화 및 도로 균열 예측 시스템을 개발하였습니다. 데이터 수집, 전처리, 시각화 및 알고리즘 구현 등 전체 파이프라인에 참여하여 실질적인 분석 및 개선 성과를 이끌었습니다.   - 임베디드 시스템을 활용한 빌딩 환경 측정 플랫폼 구축 경험Esp32와 C를 기반으로 한 IoT 디바이스를 구축하고, 수집된 데이터를 MySQL 및 Grafana로 시각화하는 전          주기 개발 경험을 보유하고 있습니다.   - 모바일 프론트엔드 개발 및 팀 리딩 경험 (React Native)KAIST App 창업 프로그램에서 건설 유지보수 관련 앱을 개발하며 프론트엔드 파트를 리딩하였습니다. React Native를 활용한 UI 구성, API 연동, 사용자 편의성 개선에 주력하여 실제 서비스를 배포하였습니다.    - 글로벌 협업 기반의 웹 개발 경험캐나다 Tamwood Web-Developer Co-op 과정 중 다양한 국적의 개발자들과 팀을 이루어 소셜미디어, 미니게임 등 웹 기반 토이 프로젝트를 React와 Node.js를 활용해 개발하며 영어 소통 및 협업 역량을 키웠습니다.학력 사항 /  Educational Qualifications   - 기간 : 2017.03 ~ 2025.08    - 학교명 : 성공회대(졸업예정)   - 전공 : 소프트웨어 공학 / 정보통신 공학 (3.46/4.5) 경력 사항 / Work Experience기 업 명재직 기간부서명/업무내용중앙대학교 산학협력단 (도로교통 연구실)2021.03 ~ 2022.01활주로 최적화를 위한 역산 알고리즘 기반 시뮬레이션 SI 개발틈새투수 점토 블록 실용화 실증을 위한 데이터 수집 및 분석 툴 개발 (Python)Esp32 및 IoT 센서를 활용한 실내 환경 측정 플랫폼 제작 및 데이터 시각화 (MySQL, Grafana)대내외 활동 / Extracurricular Activity\\n박수범\\nEmailqkrtnqja97@gmail.comMobile010-2898-3951생년월일1997.02.04주소경기도 부천시 은성로172-17Githubhttps://github.com/qkrtnqja97LinkedIn\\n활 동 명활동 기간활동내용캐나다(Tamwood)Web -Develop er Co-op 과정2023.05 ~ 2023.10영어 기반의 프론트엔드 집중 교육 및 실습현지 개발자들과 협업하여 React 기반 토이 프로젝트 다수 진행'), Document(metadata={'producer': 'Hancom PDF 1.3.0.550', 'creator': 'Hwp 2018 10.0.0.14515', 'creationdate': '2025-06-16T21:51:53+09:00', 'author': 'USER', 'moddate': '2025-06-16T21:51:53+09:00', 'pdfversion': '1.4', 'source': 'docs/sample.pdf', 'total_pages': 4, 'page': 1, 'page_label': '2'}, page_content='교육 사항 / Education Experience교육기관명교육기간교육내용캐나다(Tamwood)Web-Developer Co-op 과정2023.05 ~ 2023.10HTML, CSS, JavaScript, Git 등 웹 개발 기초부터 React를 활용한 프로젝트까지 수료 KAIST App 창업프로그램 4기2024.11 ~ 2025.02Figma, React, Spring 기반 서비스 기획 및 MVP 개발창업 실무 및 기술 워크숍을 병행한 실습 위주의 교육 과정MICROSOFT AI 엔지니어 과정2025.05 ~ 2025.08최신 AI 기술 및 Azure 기반의 머신러닝/딥러닝 실습 예정자격증 및 수료증/ Certificate자격명취득 일자주관기관리눅스 마스터2급2025.04정보통신기술자격검정오픽 (IH)2025.04ACTFLSW역량/ Skill Set (Programming Languages, Framework, Library, Server, ETC)보유기술수  준 상세 내용Python중데이터 전처리, 분석, 시각화 (Pandas, Matplotlib) 경험 및 알고리즘 기반 시스템 개발JS(TS)중React, React Native 기반 UI 개발 및 API 연동 경험, 동적 UI 컴포넌트 구현MySQL하~중기본적인 데이터 모델링, 쿼리 작성 및 운영 환경에서 사용 경험기타 해당여부체크구분병과계급면제(사유)필 병장복무기간2017.10 ~ 2019.07국가유공 / 장애우대 / 생활보호대상\\n KAIST App 창업 4기 (동상) 2024.11 ~ 2025.02건설 유지보수 전용 모바일 어플리케이션 개발프론트엔드 파트장으로서 UI 기획 및 React Native 개발 주도어플리케이션 출시까지 팀 전체 개발 일정 조율 및 관리'), Document(metadata={'producer': 'Hancom PDF 1.3.0.550', 'creator': 'Hwp 2018 10.0.0.14515', 'creationdate': '2025-06-16T21:51:53+09:00', 'author': 'USER', 'moddate': '2025-06-16T21:51:53+09:00', 'pdfversion': '1.4', 'source': 'docs/sample.pdf', 'total_pages': 4, 'page': 2, 'page_label': '3'}, page_content='자기소개서<직무 성장과정 ( 자기소개 )>어떤 특정 기술만 잘하는 개발자가 아닌, 스스로 기획하고, 문제를 정의하고, 직접 구현해나가는 진짜 ‘개발자’가 되고 싶었습니다. 저는 컴퓨터 시스템을 통해 세상을 더 편리하게 만들 수 있다는 점에서 매력을 느껴, AI 개발자와 SI/웹앱 개발자를 주요 진로로 설정하게 되었습니다.처음에는 단순히 점수에 맞춰 컴퓨터 관련 학과에 진학했지만, 타 대학원 연구실에서 프로그램을 개발하며 누군가의 삶을 편리하게 만든다는 기쁨을 처음 느꼈습니다. 그 경험은 단순한 ‘코딩’이 아닌, 실질적인 ‘창조’의 즐거움을 알려주었고, 이후 다양한 프로젝트에 직접 참여하며 실력을 쌓아왔습니다.중앙대학교 산학협력단 도로교통 연구실에서는 Python 기반의 도로 균열 예측 시스템, 점토 블록 성능 시각화 도구, 환경 센서 기반 플랫폼 등 공공 R&D 프로젝트에 직접 참여했습니다. 이를 통해 데이터 수집-처리-시각화까지 전체 흐름을 설계하고 구현하는 능력을 갖추게 되었으며, 임베디드 시스템과 웹 기반 시각화 기술도 자연스럽게 익혔습니다.이후 캐나다 Web Developer Co-op 과정과 KAIST App 창업 4기 활동을 통해 프론트엔드 개발과 협업 경험을 쌓았습니다. React 및 React Native 기반으로 웹/앱 서비스를 구현하고, API 연동 및 빌드/배포까지 담당하면서 사용자 경험과 기술 완성도 사이의 균형을 체득했습니다. 특히, 건설 유지보수 앱 개발 프로젝트에서는 백엔드와 실시간 소통하며 문제를 해결하고, Google Play 배포까지 성공적으로 완료하며 성과를 인정받았습니다.저는 앞으로 프론트엔드/백엔드처럼 기술 스택의 구분에만 머무는 개발자가 아니라, AI를 직접 개발하거나, AI 기반 서비스를 기획하고 구현하는 개발자로 성장하고 싶습니다. 이를 위해 다양한 기술을 유연하게 넘나들며, 사용자 중심의 문제 해결 능력과 창의적 사고를 계속 확장해나가고 있습니다. 궁극적으로는 글로벌 벤더에서 일하며, 더 많은 사람들의 삶에 영향을 줄 수 있는 서비스를 만들고 싶습니다.\\n<직무상 강점>문제 정의부터 해결까지, 전 과정 경험중앙대학교 산학협력단 연구실에서 진행한 공공 R&D 프로젝트를 통해 단순한 기능 구현을 넘어서, 문제를 정의하고 실험과 분석, 개선안 도출까지 전 과정을 직접 경험했습니다.Python을 활용한 도로 균열 예측 시스템 개발과 센서 기반 환경 측정 플랫폼 구축은 저에게 데이터 처리, 임베디드 시스템, 시각화 기술을 아우르는 실전 역량을 쌓게 해주었습니다.풀스택 실무 경험과 주도적 참여React와 React Native를 기반으로 한 여러 프로젝트에서 UI 구현부터 API 연동, AAB 빌드 및 배포까지 개발의 전체 흐름을 이해하며 주도적으로 참여했습니다.특히 KAIST App 창업 프로젝트에서는 프론트엔드 파트장으로서 UI 설계와 팀원 간 협업, 빌드 문제 해결 등 다양한 기술적 난관을 극복하며 프로젝트를 완성했습니다.다양한 기술 스택과 융합 능력Python, JavaScript, Arduino IDE, ESP32, MySQL, Grafana 등 여러 기술을 접목해가며 프론트엔드뿐 아니라 하드웨어, 데이터베이스, 시각화 도구까지 폭넓게 다뤄본 경험이 있습니다.이러한 경험을 통해 특정 기술에만 의존하지 않고 문제에 가장 적합한 기술을 선택해 유기적으로 연결하는 능력을 키웠습니다.협업과 해외 경험으로 키운 소통 능력캐나다 Co-op 과정에서는 외국인 개발자들과 협업하며 언어와 문화 차이를 극복하는 경험을 했습니다.백엔드 개발자, 디자이너 등 다양한 직군과 함께 일하며 유연한 커뮤니케이션과 문제 해결 능력을 갖추게 되었습니다.'), Document(metadata={'producer': 'Hancom PDF 1.3.0.550', 'creator': 'Hwp 2018 10.0.0.14515', 'creationdate': '2025-06-16T21:51:53+09:00', 'author': 'USER', 'moddate': '2025-06-16T21:51:53+09:00', 'pdfversion': '1.4', 'source': 'docs/sample.pdf', 'total_pages': 4, 'page': 3, 'page_label': '4'}, page_content=\"위의 기재한 내용은 사실과 다름없음을 확인합니다.지원자         박수범    (인)\\nAI 기반 융합 개발자로 성장할 포부저는 단순히 프론트엔드나 백엔드 개발에 머무르지 않고, AI 기술과 서비스를 융합하여 실질적인 가치를 제공하는 개발자가 되고자 합니다.향후 AI 기반 솔루션을 직접 기획하고 구현할 수 있는 융합형 개발자로 성장할 잠재력을 갖추고 있습니다.<가장 힘들었던 경험 / 도전적인 활동>제가 가장 도전적으로 느꼈던 경험은 대학교 연구실에서 실사용자 요구 기반으로 두 개의 실무 프로젝트를 주도 개발했던 경험입니다.하나는 국토교통부와 공항공사 과제에 참여한 활주로 최적화 시스템 개발이었습니다.비행기 종류별 수명 예측, 유전 알고리즘과 하모니 서치를 이용한 최적 개선안 도출 등 고도화된 로직을 Python으로 구현했고, 이를 시각화하여 정책 제안이 가능한 형태로 만들었습니다.기존 MATLAB 기반 알고리즘을 Python으로 이식하는 과정에서 로직을 구조적으로 이해하고 다시 설계하는 과정은 쉽지 않았지만, 구글링과 문서 분석을 통해 해결해냈습니다.또 하나는 ESP32 기반의 빌딩 환경 측정 플랫폼개발이었습니다.온습도, CO₂ 센서 등의 값을 디지털 신호로 받아 사람이 이해하기 쉬운 단위로 정규화하고, 실시간으로 서버에 저장 및 시각화하는 시스템을 처음부터 설계했습니다.센서마다 값이 다르고 노이즈도 많아, 입력을 표준화하고 오차를 줄이는 과정을 반복하며 임베디드 개발, 데이터 처리, 시각화까지 전 과정을 혼자 담당했습니다.두 프로젝트 모두 생소한 도메인의 문제를 처음부터 끝까지 스스로 해결해야 했고, 당시 GPT도 없어서 대부분 유튜브와 기술 블로그, 공식 문서 등을 참고해 개발했습니다.이 경험들을 통해, 저는 단순히 코드를 짜는 것이 아닌 현실 문제를 기술로 풀어내는 개발자의 역할을 체감했고, 모르는 영역이라도 배우며 해결할 수 있다는 자신감을 갖게 되었습니다.<직무와 관련된 열정, 입사 후 포부>저는 단순히 기술을 사용하는 것을 넘어, 현실의 문제를 기술로 해결하는 과정에 큰 열정을 가지고 있습니다.대학 시절, 연구실 프로젝트를 통해 도메인 지식이 전혀 없던 토목·건축 분야의 문제를 직접 이해하고,Python 기반의 최적화 시스템과 임베디드 센서 플랫폼을 스스로 설계하고 구현하는 과정을 겪으며,**'실제 사용자에게 필요한 기술을 만들고 개선해 나가는 것'**이 얼마나 보람찬 일인지 체감했습니다.개발 중 마주한 생소한 라이브러리, 낯선 데이터 형식, 실시간 시스템 설계 등은 매 순간 도전이었지만,제가 만든 기능을 기반으로 연구가 진행되고, 실제 결과물이 현장에서 활용될 때 큰 자부심을 느꼈습니다.이 과정에서, 사용자 중심의 사고와 문제 해결 능력, 그리고 도메인을 빠르게 파악해 개발에 녹여내는 능력을 키울 수 있었습니다.입사 후에는 이러한 역량을 바탕으로, 단순한 기능 구현을 넘어 제품의 '가치'를 함께 고민하는 개발자가 되고 싶습니다.특히 실무 환경에서 팀원들과의 긴밀한 협업을 통해 기획부터 유지보수까지 전 과정에 적극 참여하고,스스로 기술을 배우고 적용하며 성장하는 자세로 빠르게 적응하겠습니다.더 나아가, 제가 만든 기능이 사용자에게 실질적인 도움을 주고,회사가 추구하는 서비스의 방향성과 맞닿아 있다는 것을 체감하며 일하고 싶습니다.이를 위해 매 개발마다 목적을 명확히 하고, 유지보수성과 사용자 경험을 고려한 설계를 지속적으로 연습할 것입니다.\")] \n",
      "\n",
      "First chunk content: 핵심 역량 / Strength   - Python을 활용한 역산 및 최적화 프로그램 개발 경험 중앙대학교 도로교통 연구실에서 Python을 활용하여 활주로 최적화 및 도로 균열 예측 시스템을 개발하였습니다. 데이터 수집, 전처리, 시각화 및 알고리즘 구현 등 전체 파이프라인에 참여하여 실질적인 분석 및 개선 성과를 이끌었습니다.   - 임베디드 시스템을 활...\n"
     ]
    }
   ],
   "source": [
    "# 1. PDF 문서 로딩\n",
    "loader = PyPDFLoader(\"docs/sample.pdf\")\n",
    "pages = loader.load()\n",
    "print(f\"Loaded {len(pages)} pages from the PDF document.\")\n",
    "print(f\"pages: {pages} \\n\")  # Print the loaded pages for debugging\n",
    "print(f\"First page content: {pages[0].page_content[:200]}...\")  # Print first 200 characters of the first page\n",
    "print(f\"pages: {pages[0].page_content} \\n\")  # Print the loaded pages for debugging\n",
    "\n",
    "# 2. 페이지를 청크로 분할  --  맥락 고려해서 청크 사이즈 조정하기. (근거가 뭐임?? - 문서를 내가 정규화 시켜볼까 고민)\n",
    "text_splitter = CharacterTextSplitter(chunk_size=500, chunk_overlap=50)\n",
    "print(f\"text_splitter: {text_splitter} \\n\")  # Print the text splitter configuration for debugging\n",
    "docs = text_splitter.split_documents(pages)\n",
    "print(f\"Split into {len(docs)} chunks.\")\n",
    "print(f\"docs: {docs} \\n\")  # Print the split documents for debugging\n",
    "print(f\"First chunk content: {docs[0].page_content[:200]}...\")  # Print first 200 characters of the first chunk\n"
   ]
  },
  {
   "cell_type": "code",
   "execution_count": 3,
   "id": "aa514b76",
   "metadata": {},
   "outputs": [
    {
     "name": "stderr",
     "output_type": "stream",
     "text": [
      "/var/folders/wy/_jj74ny11pd8y1qwn7xj5vc80000gn/T/ipykernel_10238/3201574562.py:2: LangChainDeprecationWarning: The class `AzureOpenAIEmbeddings` was deprecated in LangChain 0.0.9 and will be removed in 1.0. An updated version of the class exists in the :class:`~langchain-openai package and should be used instead. To use it run `pip install -U :class:`~langchain-openai` and import as `from :class:`~langchain_openai import AzureOpenAIEmbeddings``.\n",
      "  embeddings = AzureOpenAIEmbeddings(\n"
     ]
    }
   ],
   "source": [
    "# 3. 벡터화 + FAISS 저장소 생성.   임베딩 모델 라지모델 더 많이 씀.!! - 청크 사이즈가 커서 맥락 이해 더 잘함!\n",
    "embeddings = AzureOpenAIEmbeddings(\n",
    "    azure_deployment=\"text-embedding-ada-002\",\n",
    "    openai_api_key=\"DaH9GW5nK15zX9b1541B4H7lt2l9YeXLm6xzWzrdhjlZw322zTINJQQJ99BGACYeBjFXJ3w3AAABACOGbelF\",\n",
    "    openai_api_version=\"2023-05-15\", \n",
    "    azure_endpoint=\"https://rounders-openai.openai.azure.com\",  \n",
    "    chunk_size=1_000,\n",
    ")\n",
    "\n",
    "vectorstore = FAISS.from_documents(docs, embeddings)\n"
   ]
  },
  {
   "cell_type": "code",
   "execution_count": 54,
   "id": "b41a1d8f",
   "metadata": {},
   "outputs": [
    {
     "name": "stdout",
     "output_type": "stream",
     "text": [
      "<langchain_community.vectorstores.faiss.FAISS object at 0x128027400>\n",
      "[Document 1]\n",
      "내용: 핵심 역량 / Strength   - Python을 활용한 역산 및 최적화 프로그램 개발 경험 중앙대학교 도로교통 연구실에서 Python을 활용하여 활주로 최적화 및 도로 균열 예측 시스템을 개발하였습니다. 데이터 수집, 전처리, 시각화 및 알고리즘 구현 등 전체 파이프라인에 참여하여 실질적인 분석 및 개선 성과를 이끌었습니다.   - 임베디드 시스템을 활용한 빌딩 환경 측정 플랫폼 구축 경험Esp32와 C를 기반으로 한 IoT 디바이스를 구축하고, 수집된 데이터를 MySQL 및 Grafana로 시각화하는 전          주기 ...\n",
      "\n",
      "[Document 2]\n",
      "내용: 교육 사항 / Education Experience교육기관명교육기간교육내용캐나다(Tamwood)Web-Developer Co-op 과정2023.05 ~ 2023.10HTML, CSS, JavaScript, Git 등 웹 개발 기초부터 React를 활용한 프로젝트까지 수료 KAIST App 창업프로그램 4기2024.11 ~ 2025.02Figma, React, Spring 기반 서비스 기획 및 MVP 개발창업 실무 및 기술 워크숍을 병행한 실습 위주의 교육 과정MICROSOFT AI 엔지니어 과정2025.05 ~ 2025.08최신 A...\n",
      "\n",
      "[Document 3]\n",
      "내용: 자기소개서<직무 성장과정 ( 자기소개 )>어떤 특정 기술만 잘하는 개발자가 아닌, 스스로 기획하고, 문제를 정의하고, 직접 구현해나가는 진짜 ‘개발자’가 되고 싶었습니다. 저는 컴퓨터 시스템을 통해 세상을 더 편리하게 만들 수 있다는 점에서 매력을 느껴, AI 개발자와 SI/웹앱 개발자를 주요 진로로 설정하게 되었습니다.처음에는 단순히 점수에 맞춰 컴퓨터 관련 학과에 진학했지만, 타 대학원 연구실에서 프로그램을 개발하며 누군가의 삶을 편리하게 만든다는 기쁨을 처음 느꼈습니다. 그 경험은 단순한 ‘코딩’이 아닌, 실질적인 ‘창조’의 ...\n",
      "\n",
      "[Document 4]\n",
      "내용: 위의 기재한 내용은 사실과 다름없음을 확인합니다.지원자         박수범    (인)\n",
      "AI 기반 융합 개발자로 성장할 포부저는 단순히 프론트엔드나 백엔드 개발에 머무르지 않고, AI 기술과 서비스를 융합하여 실질적인 가치를 제공하는 개발자가 되고자 합니다.향후 AI 기반 솔루션을 직접 기획하고 구현할 수 있는 융합형 개발자로 성장할 잠재력을 갖추고 있습니다.<가장 힘들었던 경험 / 도전적인 활동>제가 가장 도전적으로 느꼈던 경험은 대학교 연구실에서 실사용자 요구 기반으로 두 개의 실무 프로젝트를 주도 개발했던 경험입니다.하나는 ...\n",
      "\n",
      "벡터 개수: 4\n"
     ]
    }
   ],
   "source": [
    "print(vectorstore)\n",
    "for i, (doc_id, doc) in enumerate(vectorstore.docstore._dict.items()):\n",
    "    print(f\"[Document {i+1}]\")\n",
    "    print(f\"내용: {doc.page_content[:300]}...\\n\")  # 처음 300자만 출력\n",
    "\n",
    "print(f\"벡터 개수: {vectorstore.index.ntotal}\")\n"
   ]
  },
  {
   "cell_type": "code",
   "execution_count": null,
   "id": "e75e552d",
   "metadata": {},
   "outputs": [
    {
     "name": "stdout",
     "output_type": "stream",
     "text": [
      "LLM initialized successfully. client=<openai.resources.chat.completions.completions.Completions object at 0x126b56e00> async_client=<openai.resources.chat.completions.completions.AsyncCompletions object at 0x1289e1c60> temperature=1.0 model_kwargs={} openai_api_key='DaH9GW5nK15zX9b1541B4H7lt2l9YeXLm6xzWzrdhjlZw322zTINJQQJ99BGACYeBjFXJ3w3AAABACOGbelF' openai_proxy='' azure_endpoint='https://rounders-openai.openai.azure.com/' deployment_name='o4-mini' openai_api_version='2024-12-01-preview' openai_api_type='azure'\n",
      "📌 답변: 아래는 지금까지 수행하신 주요 활동을 항목별로 정리한 내용입니다.  \n",
      "\n",
      "1. 학력  \n",
      " - 성공회대학교 소프트웨어공학·정보통신공학 복수전공(2017.03 ~ 2025.08 예정, 평점 3.46/4.5)  \n",
      "\n",
      "2. 연구실 및 공공 R&D 프로젝트  \n",
      " - 활주로 최적화 시스템 개발  \n",
      "   · Python 기반 유전 알고리즘·하모니 서치 적용  \n",
      "   · 비행기 종류별 수명 예측, 시뮬레이션 및 시각화  \n",
      "   · MATLAB 알고리즘을 Python으로 이식·재설계  \n",
      " - 도로 균열 예측 시스템  \n",
      "   · Python을 이용한 데이터 수집·전처리·모델링·시각화  \n",
      " - ESP32 기반 빌딩 환경 측정 플랫폼 구축  \n",
      "   · 온습도·CO₂ 센서 데이터 수집 및 정규화  \n",
      "   · MySQL 저장, Grafana 시각화  \n",
      " - 점토 블록 성능 실증용 데이터 수집·분석 도구 개발 (Python)  \n",
      "\n",
      "3. 해외 연수 및 창업 프로그램  \n",
      " - 캐나다 Tamwood Web-Developer Co-op 과정 (2023.05 ~ 2023.10)  \n",
      "   · 영어 기반 실무 교육 및 React 토이 프로젝트 다수 수행  \n",
      "   · 외국인 개발자들과 협업 경험  \n",
      " - KAIST App 창업 4기 (2024.11 ~ 2025.02)  \n",
      "   · 건설 유지보수 전용 모바일 앱 기획·개발 (React, Spring)  \n",
      "   · 프론트엔드 파트장으로 UI 설계·개발 주도, Google Play 배포  \n",
      "\n",
      "4. 전문 교육 과정  \n",
      " - Microsoft AI 엔지니어 과정 (2025.05 ~ 2025.08 예정)  \n",
      "   · Azure 기반 머신러닝·딥러닝 실습  \n",
      "\n",
      "5. 자격증 및 어학  \n",
      " - 리눅스 마스터 2급 (2025.04)  \n",
      " - OPIC IH (2025.04)  \n",
      "\n",
      "6. 주요 보유 기술  \n",
      " - 프로그래밍 언어: Python (Pandas, Matplotlib), JavaScript/TypeScript  \n",
      " - 프레임워크·라이브러리: React, React Native  \n",
      " - 임베디드: Arduino IDE, ESP32 C 개발  \n",
      " - 데이터베이스·시각화: MySQL, Grafana  \n",
      " - 알고리즘·최적화: 유전 알고리즘, 하모니 서치 등  \n",
      "\n",
      "이상입니다. 필요에 따라 추가 보완이나 세부 조정이 필요하시면 알려주세요!\n"
     ]
    }
   ],
   "source": [
    "llm = AzureChatOpenAI(\n",
    "    deployment_name=\"o4-mini\",  \n",
    "    openai_api_key=\"DaH9GW5nK15zX9b1541B4H7lt2l9YeXLm6xzWzrdhjlZw322zTINJQQJ99BGACYeBjFXJ3w3AAABACOGbelF\",\n",
    "    api_version=\"2024-12-01-preview\",\n",
    "    azure_endpoint=\"https://rounders-openai.openai.azure.com/\",\n",
    "    temperature=1 ,\n",
    ")\n",
    "print(\"LLM initialized successfully.\", llm)\n",
    "qa = RetrievalQA.from_chain_type(\n",
    "    llm=llm,\n",
    "    retriever=vectorstore.as_retriever(),\n",
    "    chain_type=\"stuff\",  # or \"map_reduce\", \"refine\" if 문서 많을 때\n",
    ")\n",
    "\n",
    "\n"
   ]
  },
  {
   "cell_type": "code",
   "execution_count": null,
   "id": "79efc23c",
   "metadata": {},
   "outputs": [
    {
     "name": "stdout",
     "output_type": "stream",
     "text": [
      "📌 답변: [자기소개서]\n",
      "\n",
      "1. 지원 동기  \n",
      "현대오토에버는 커넥티드카, 스마트팩토리, 모빌리티 플랫폼 등 자동차 산업의 디지털 전환을 선도하며 미래 모빌리티 혁신을 이끄는 기업입니다. 저는 대학 시절부터 AI와 IoT·웹 개발을 융합하여 실사용자에게 가치를 제공하는 솔루션을 직접 기획·구현해 왔습니다. 특히 스마트 센서 플랫폼과 최적화 알고리즘 개발 경험을 토대로, 커넥티드카 데이터 분석 및 차량 내·외부 통합 서비스 구축에 기여하고 싶습니다. 현대오토에버의 ‘안전·편리·지속가능’ 모빌리티 비전에 동참하여, 사용자 경험을 극대화하는 스마트 모빌리티 서비스를 함께 발전시키고자 지원합니다.\n",
      "\n",
      "2. 성장 과정 및 핵심 역량  \n",
      "- 문제 정의부터 구현·분석·개선까지 전 과정 주도  \n",
      "  중앙대학교 산학협력단 도로교통 연구실에서 ‘활주로 최적화 시스템’과 ‘도로 균열 예측 도구’를 Python 기반으로 개발하며, 도메인 이해→데이터 수집·전처리→유전 알고리즘·하모니 서치 최적화→시각화까지 전주기를 경험했습니다. 기존 MATLAB 코드를 구조적으로 재설계하고, 정책 제안용 대시보드를 제작하며 ‘기술이 현실 문제를 해결하는 과정’을 체득했습니다.\n",
      "\n",
      "- 임베디드 IoT 플랫폼 설계·구축  \n",
      "  ESP32와 온습도·CO₂ 센서를 이용한 빌딩 환경 측정 시스템을 처음부터 설계·구현했습니다. 센서 데이터의 표준화 및 노이즈 제거, MySQL 저장, Grafana 시각화까지 전 과정을 혼자 담당하며, 실시간 모니터링 요구사항을 충족시켰습니다. 이 경험을 통해 임베디드 개발, 데이터 파이프라인 구축 역량을 쌓았고, 커넥티드카 환경에서의 센서 데이터 수집·분석에도 유연하게 적용할 수 있습니다.\n",
      "\n",
      "- 풀스택 웹·모바일 서비스 개발  \n",
      "  캐나다 Tamwood Co-op 과정과 KAIST App 창업 프로그램 4기에서 React·React Native로 UI/UX를 설계하고, Node.js API 연동, AAB 배포까지 담당했습니다. 특히 건설 유지보수 앱 프로젝트에서는 프론트엔드 파트장으로 팀을 이끌며, 실시간 알림·다중 사용자 관리 기능을 구현했고, Google Play 배포 후 사용성 피드백을 반영하여 제품 완성도를 높였습니다. 이 경험은 현대오토에버의 차량 관리·차량 공유 플랫폼에서도 빠른 시장 적응과 사용자 중심 고도화를 가능케 할 것입니다.\n",
      "\n",
      "3. 현대오토에버와의 시너지  \n",
      "- AI·IoT 융합 역량: 차량 내외부 데이터를 활용한 예측 유지보수(예: 브레이크 패드 마모 예측), 운전자 운행 패턴 분석 등 데이터 기반 서비스 설계에 기여  \n",
      "- 풀스택 개발 경험: Telematics 서버부터 대시보드 웹·모바일 앱까지 전 스택을 아우르는 통합 솔루션 개발 가능  \n",
      "- 협업과 커뮤니케이션: 국내외 연구실 및 현지 개발자와의 협업 경험을 통해 다학제·다문화 팀에서도 원활한 소통과 빠른 문제 해결 능력 보유  \n",
      "\n",
      "4. 입사 후 포부  \n",
      "입사 초기에는 커넥티드카 플랫폼 개발팀에 합류하여, IoT 센서 데이터 수집·처리 파이프라인 고도화와 AI 모델 연동 업무를 담당하고 싶습니다. 이후에는 사용자 경험을 고려한 UI/UX 개선, 대시보드 및 앱 기능 확장에 참여하며 고객 만족도를 높이는 데 주력하겠습니다. 장기적으로는 스마트 시티·스마트 팩토리와 연계한 모빌리티 서비스 영역으로 업무 범위를 확대하여, 현대오토에버가 미래형 모빌리티 생태계를 구현하는 데 전략적 역할을 수행하고 싶습니다.\n",
      "\n",
      "저의 ‘현실 문제를 기술로 풀어내는’ 경험과 ‘스스로 기획·배우며 협업하는’ 자세가 현대오토에버의 혁신 과제 해결에 기여할 것을 확신합니다. 감사합니다.\n"
     ]
    }
   ],
   "source": [
    "query = \"내가 지금까지 한 활동들을 현대 오토에버에 맞는 자소서로 작성해줘\"\n",
    "answer = qa.run(query)\n",
    "print(\"📌 답변:\", answer)"
   ]
  }
 ],
 "metadata": {
  "kernelspec": {
   "display_name": "rounders",
   "language": "python",
   "name": "python3"
  },
  "language_info": {
   "codemirror_mode": {
    "name": "ipython",
    "version": 3
   },
   "file_extension": ".py",
   "mimetype": "text/x-python",
   "name": "python",
   "nbconvert_exporter": "python",
   "pygments_lexer": "ipython3",
   "version": "3.10.18"
  }
 },
 "nbformat": 4,
 "nbformat_minor": 5
}
