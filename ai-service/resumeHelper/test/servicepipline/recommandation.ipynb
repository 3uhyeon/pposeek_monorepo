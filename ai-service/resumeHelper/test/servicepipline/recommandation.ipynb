{
 "cells": [
  {
   "cell_type": "code",
   "execution_count": 1,
   "id": "4d2a23d5",
   "metadata": {},
   "outputs": [],
   "source": [
    "from langchain.embeddings import AzureOpenAIEmbeddings\n",
    "from langchain.vectorstores import FAISS\n",
    "from langchain.chains.question_answering import load_qa_chain\n",
    "from langchain.chat_models import AzureChatOpenAI\n",
    "from langchain.document_loaders import PyPDFLoader\n",
    "from langchain.text_splitter import RecursiveCharacterTextSplitter\n",
    "import os\n",
    "import sys\n",
    "sys.path.append(os.path.abspath(os.path.join(os.getcwd(), \"../..\")))\n",
    "from config import settings"
   ]
  },
  {
   "cell_type": "code",
   "execution_count": 4,
   "id": "bf99337b",
   "metadata": {},
   "outputs": [],
   "source": [
    "PROMPT_ANALYZE_RESUME = \"\"\"\n",
    "다음은 사용자의 이력서/포트폴리오 요약입니다:\n",
    "\n",
    "{resume_summary}\n",
    "\n",
    "이 문서를 바탕으로 사용자가 적합할 수 있는 직무를 1~2개 추천해주세요.\n",
    "각 직무에 대해, 이 문서가 어떤 강점을 갖고 있는지도 함께 요약해주세요.\n",
    "\n",
    "출력 형식:\n",
    "- 추천 직무: OOO, OOO\n",
    "- 강점 요약: ...\n",
    "\"\"\"\n",
    "\n",
    "# 1. PDF 로딩 + 벡터화\n",
    "def load_resume_pdf(file_path: str):\n",
    "    loader = PyPDFLoader(file_path)\n",
    "    pages = loader.load_and_split()\n",
    "    splitter = RecursiveCharacterTextSplitter(chunk_size=500, chunk_overlap=50)\n",
    "    docs = splitter.split_documents(pages)\n",
    "    return docs\n",
    "\n",
    "# 2. 임베딩 + 벡터 저장\n",
    "def build_vector_db(docs):\n",
    "    embeddings = AzureOpenAIEmbeddings(\n",
    "      azure_deployment=settings.EMBEDDING_DEPLOYMENT,\n",
    "      openai_api_key=settings.EMBEDDING_API_KEY,\n",
    "      openai_api_version=settings.EMBEDDING_API_VERSION, \n",
    "      azure_endpoint=settings.EMBEDDING_ENDPOINT,  \n",
    "      chunk_size=1_000,\n",
    "    ) \n",
    "    db = FAISS.from_documents(docs, embeddings)\n",
    "    return db\n",
    "\n",
    "# 3. 요약 추출 (RAG)\n",
    "def summarize_resume(db):\n",
    "    llm = AzureChatOpenAI(\n",
    "        deployment_name=settings.LLM_DEPLOYMENT,\n",
    "        openai_api_key=settings.LLM_API_KEY,\n",
    "        api_version=settings.LLM_API_VERSION,\n",
    "        azure_endpoint=settings.LLM_ENDPOINT,\n",
    "        temperature=settings.LLM_TEMPERATURE\n",
    "    )\n",
    "    chain = load_qa_chain(llm, chain_type=\"stuff\")\n",
    "    docs = db.similarity_search(\"이 이력서를 간단히 요약해주세요.\", k=5)\n",
    "    summary = chain.run(input_documents=docs, question=\"이 이력서를 요약해주세요.\")\n",
    "    return summary.strip()\n",
    "\n",
    "# 4. 자동 직무 추천 프롬프트\n",
    "def suggest_jobs_from_summary(resume_summary):\n",
    "    llm = AzureChatOpenAI(\n",
    "        deployment_name=settings.LLM_DEPLOYMENT,\n",
    "        openai_api_key=settings.LLM_API_KEY,\n",
    "        api_version=settings.LLM_API_VERSION,\n",
    "        azure_endpoint=settings.LLM_ENDPOINT,\n",
    "        temperature=settings.LLM_TEMPERATURE\n",
    "    )\n",
    "    prompt = PROMPT_ANALYZE_RESUME.format(resume_summary=resume_summary)\n",
    "    return llm.predict(prompt).strip()\n"
   ]
  },
  {
   "cell_type": "code",
   "execution_count": 5,
   "id": "3337d0d5",
   "metadata": {},
   "outputs": [
    {
     "name": "stderr",
     "output_type": "stream",
     "text": [
      "/var/folders/wy/_jj74ny11pd8y1qwn7xj5vc80000gn/T/ipykernel_30671/1702718214.py:24: LangChainDeprecationWarning: The class `AzureOpenAIEmbeddings` was deprecated in LangChain 0.0.9 and will be removed in 1.0. An updated version of the class exists in the :class:`~langchain-openai package and should be used instead. To use it run `pip install -U :class:`~langchain-openai` and import as `from :class:`~langchain_openai import AzureOpenAIEmbeddings``.\n",
      "  embeddings = AzureOpenAIEmbeddings(\n",
      "/var/folders/wy/_jj74ny11pd8y1qwn7xj5vc80000gn/T/ipykernel_30671/1702718214.py:36: LangChainDeprecationWarning: The class `AzureChatOpenAI` was deprecated in LangChain 0.0.10 and will be removed in 1.0. An updated version of the class exists in the :class:`~langchain-openai package and should be used instead. To use it run `pip install -U :class:`~langchain-openai` and import as `from :class:`~langchain_openai import AzureChatOpenAI``.\n",
      "  llm = AzureChatOpenAI(\n",
      "/var/folders/wy/_jj74ny11pd8y1qwn7xj5vc80000gn/T/ipykernel_30671/1702718214.py:43: LangChainDeprecationWarning: This class is deprecated. See the following migration guides for replacements based on `chain_type`:\n",
      "stuff: https://python.langchain.com/docs/versions/migrating_chains/stuff_docs_chain\n",
      "map_reduce: https://python.langchain.com/docs/versions/migrating_chains/map_reduce_chain\n",
      "refine: https://python.langchain.com/docs/versions/migrating_chains/refine_chain\n",
      "map_rerank: https://python.langchain.com/docs/versions/migrating_chains/map_rerank_docs_chain\n",
      "\n",
      "See also guides on retrieval and question-answering here: https://python.langchain.com/docs/how_to/#qa-with-rag\n",
      "  chain = load_qa_chain(llm, chain_type=\"stuff\")\n",
      "/var/folders/wy/_jj74ny11pd8y1qwn7xj5vc80000gn/T/ipykernel_30671/1702718214.py:45: LangChainDeprecationWarning: The method `Chain.run` was deprecated in langchain 0.1.0 and will be removed in 1.0. Use :meth:`~invoke` instead.\n",
      "  summary = chain.run(input_documents=docs, question=\"이 이력서를 요약해주세요.\")\n"
     ]
    }
   ],
   "source": [
    "file_path = \"docs/sample.pdf\"\n",
    "\n",
    "docs = load_resume_pdf(file_path)\n",
    "vector_db = build_vector_db(docs)\n",
    "summary = summarize_resume(vector_db)\n"
   ]
  },
  {
   "cell_type": "code",
   "execution_count": 6,
   "id": "0f7eede0",
   "metadata": {},
   "outputs": [
    {
     "name": "stdout",
     "output_type": "stream",
     "text": [
      "🔎 요약 결과:\n",
      " 아래는 박수범 님 이력서의 주요 내용을 간략히 정리한 것입니다.\n",
      "\n",
      "1. 인적 사항  \n",
      "- 이름: 박수범  \n",
      "- 연락처: 010-2898-3951 / qkrtnqja97@gmail.com  \n",
      "- GitHub: https://github.com/qkrtnqja97  \n",
      "- 생년월일: 1997.02.04  \n",
      "\n",
      "2. 진로 목표  \n",
      "- 특정 기술만 다루는 개발자가 아니라, 문제 정의부터 기획·설계·구현·배포까지 책임지는 ‘풀스택’ 개발자로 성장  \n",
      "- AI 및 SI/웹앱 개발자를 주된 진로로 설정  \n",
      "\n",
      "3. 주요 경력 및 프로젝트  \n",
      "- 중앙대학교 산학협력단 도로교통 연구실 (공공 R&D)  \n",
      "  · Python 기반 도로 균열 예측 시스템 개발  \n",
      "  · 점토 블록 성능 시각화 도구 및 환경 센서 플랫폼 구현  \n",
      "  → 데이터 수집·처리·시각화 전 과정을 설계·구현  \n",
      "- KAIST App 창업 프로젝트  \n",
      "  · React/React Native 프론트엔드 파트장  \n",
      "  · UI 설계, API 연동, AAB 빌드·배포 등 전반 업무 주도  \n",
      "- 캐나다 Tamwood Web Developer Co-op (2023.05~10)  \n",
      "  · 영어 환경에서 프론트엔드 집중 교육 및 현지 개발자 협업 프로젝트 수행  \n",
      "\n",
      "4. 보유 기술  \n",
      "- 언어 및 플랫폼: Python, JavaScript, React, React Native  \n",
      "- 임베디드·하드웨어: Arduino IDE, ESP32  \n",
      "- 데이터베이스: MySQL  \n",
      "- 역량: 데이터 처리·시각화, 실시간 시스템 설계, API 연동, 앱 빌드·배포  \n",
      "\n",
      "5. 강점 및 입사 후 포부  \n",
      "- 문제 정의부터 실험·분석·개선까지 전 과정을 경험하며 ‘사용자 중심’ 솔루션 개발  \n",
      "- 낯선 분야도 빠르게 학습해 기술에 녹여내는 능력  \n",
      "- 단순 기능 구현을 넘어 ‘제품의 가치’를 고민하고 발전시켜 나가는 개발자 지향\n"
     ]
    }
   ],
   "source": [
    "print(\"🔎 요약 결과:\\n\", summary)\n"
   ]
  },
  {
   "cell_type": "code",
   "execution_count": 7,
   "id": "e608c0c8",
   "metadata": {},
   "outputs": [
    {
     "name": "stderr",
     "output_type": "stream",
     "text": [
      "/var/folders/wy/_jj74ny11pd8y1qwn7xj5vc80000gn/T/ipykernel_30671/1702718214.py:58: LangChainDeprecationWarning: The method `BaseChatModel.predict` was deprecated in langchain-core 0.1.7 and will be removed in 1.0. Use :meth:`~invoke` instead.\n",
      "  return llm.predict(prompt).strip()\n"
     ]
    },
    {
     "name": "stdout",
     "output_type": "stream",
     "text": [
      "\n",
      "🎯 추천 직무:\n",
      " - 추천 직무: 풀스택 웹앱 개발자, AI/ML 엔지니어  \n",
      "- 강점 요약:  \n",
      "  • 풀스택 개발자로서 Python 기반 백엔드 설계·구현부터 React/React Native 프론트엔드·API 연동·앱 배포까지 전 과정을 주도한 경험  \n",
      "  • 공공 R&D 프로젝트에서 데이터 수집·처리·시각화 및 예측 모델 개발을 수행하며 머신러닝 파이프라인 전반을 경험  \n",
      "  • Arduino·ESP32 등 임베디드 플랫폼 연동 경험으로 하드웨어·소프트웨어를 아우르는 시스템 설계 역량 보유  \n",
      "  • 영어권 협업 경험과 빠른 학습력으로 낯선 기술 스택에도 빠르게 적응, 사용자 중심 솔루션을 책임지는 태도\n"
     ]
    }
   ],
   "source": [
    "job_suggestion = suggest_jobs_from_summary(summary)\n",
    "print(\"\\n🎯 추천 직무:\\n\", job_suggestion)"
   ]
  },
  {
   "cell_type": "code",
   "execution_count": null,
   "id": "c23b7748",
   "metadata": {},
   "outputs": [],
   "source": [
    "PROMPT_HITL_FOLLOWUP = \"\"\"\n",
    "사용자의 목표는 '{target_job}' 직무로 이력서/포트폴리오를 보완하는 것입니다.\n",
    "현재 사용자의 문서 요약 내용은 다음과 같습니다:\n",
    "\n",
    "{resume_summary}\n",
    "\n",
    "이 문서를 기반으로 했을 때, 직무 적합성을 높이기 위해 사용자가 추가로 제공하면 좋은 정보나 경험은 무엇인가요?\n",
    "또한 사용자에게 묻기 좋은 질문 1~2개를 작성해주세요.\n",
    "\n",
    "형식:\n",
    "- 보완 포인트:\n",
    "- 사용자에게 할 질문:\n",
    "\"\"\"\n",
    "def hitl_followup_questions(target_job, resume_summary):\n",
    "    llm = AzureChatOpenAI(\n",
    "        deployment_name=settings.LLM_DEPLOYMENT,\n",
    "        openai_api_key=settings.LLM_API_KEY,\n",
    "        api_version=settings.LLM_API_VERSION,\n",
    "        azure_endpoint=settings.LLM_ENDPOINT,\n",
    "        temperature=settings.LLM_TEMPERATURE\n",
    "    )\n",
    "    prompt = PROMPT_HITL_FOLLOWUP.format(target_job=target_job, resume_summary=resume_summary)\n",
    "    return llm.predict(prompt).strip()\n"
   ]
  },
  {
   "cell_type": "code",
   "execution_count": 11,
   "id": "f83cedc4",
   "metadata": {},
   "outputs": [
    {
     "name": "stdout",
     "output_type": "stream",
     "text": [
      "🤖 HITL 질문 생성 결과:\n",
      " - 보완 포인트:\n",
      "  1. AI·머신러닝 프로젝트 경험  \n",
      "     · 수행한 데이터셋, 문제 정의, 모델 아키텍처(예: CNN, RNN, Transformer 등)  \n",
      "     · 학습·평가 지표(정확도, F1, RMSE 등) 및 성과  \n",
      "     · 사용한 프레임워크(TensorFlow, PyTorch 등)와 버전  \n",
      "  2. 모델 배포·운영 경험  \n",
      "     · 클라우드(AWS/GCP/Azure) 또는 온프레미스 환경에서의 인퍼런스 파이프라인 구축  \n",
      "     · Docker/Kubernetes를 활용한 컨테이너화 및 CI/CD 파이프라인  \n",
      "  3. 데이터 수집·전처리 사례  \n",
      "     · 웹 크롤링, API 연동, 라벨링 자동화 등 구체적인 워크플로우  \n",
      "     · 데이터 정제·증강 방법과 도구  \n",
      "  4. 오픈소스·커뮤니티 활동  \n",
      "     · GitHub에 공개한 AI 관련 레포지토리 링크  \n",
      "     · Kaggle·논문 리뷰·스터디 그룹 활동 경력  \n",
      "  5. AI 윤리·보안 고려 사항  \n",
      "     · 모델 편향성 분석 및 개선 경험  \n",
      "     · 개인정보 보호·보안 대책 수립 사례\n",
      "\n",
      "- 사용자에게 할 질문:\n",
      "  1. 지금까지 AI·머신러닝 프로젝트 중 가장 도전적이었던 과제와, 해결을 위해 사용한 기법 및 결과는 무엇인가요?  \n",
      "  2. 학습한 모델을 실제 서비스에 배포·운영해본 경험이 있나요? 있다면 사용한 인프라(클라우드·툴)와 CI/CD 절차를 간략히 설명해 주세요.\n"
     ]
    }
   ],
   "source": [
    "resume_summary = summary\n",
    "target_job = \"ai 개발자\"\n",
    "\n",
    "follow_up_question = hitl_followup_questions(resume_summary, target_job)\n",
    "print(\"🤖 HITL 질문 생성 결과:\\n\", follow_up_question)"
   ]
  },
  {
   "cell_type": "code",
   "execution_count": 12,
   "id": "b46c0c49",
   "metadata": {},
   "outputs": [],
   "source": [
    "PROMPT_FINAL_GENERATION = \"\"\"\n",
    "다음은 사용자의 이력서 요약 내용입니다:\n",
    "\n",
    "{resume_summary}\n",
    "\n",
    "사용자가 추가로 제공한 정보는 다음과 같습니다:\n",
    "{user_input_detail}\n",
    "\n",
    "사용자의 요청은 '{target_job}' 직무에 맞게 문서를 보완하는 것입니다.\n",
    "\n",
    "위의 정보를 기반으로, 해당 직무에 적합하게 이력서 또는 포트폴리오 내용을 수정하거나 새롭게 작성해주세요.\n",
    "- 실무 중심, 구체적인 성과 중심으로 작성\n",
    "- 너무 장황하지 않게\n",
    "- 포맷은 자연스러운 이력서 문장 스타일\n",
    "\n",
    "결과:\n",
    "\"\"\"\n",
    "def generate_final_resume_content(target_job, resume_summary, user_input_detail):\n",
    "    llm = AzureChatOpenAI(\n",
    "        deployment_name=settings.LLM_DEPLOYMENT,\n",
    "        openai_api_key=settings.LLM_API_KEY,\n",
    "        api_version=settings.LLM_API_VERSION,\n",
    "        azure_endpoint=settings.LLM_ENDPOINT,\n",
    "        temperature=settings.LLM_TEMPERATURE\n",
    "    )\n",
    "    prompt = PROMPT_FINAL_GENERATION.format(\n",
    "        target_job=target_job,\n",
    "        resume_summary=resume_summary,\n",
    "        user_input_detail=user_input_detail\n",
    "    )\n",
    "    return llm.predict(prompt).strip()"
   ]
  },
  {
   "cell_type": "code",
   "execution_count": 14,
   "id": "b1e9304a",
   "metadata": {},
   "outputs": [
    {
     "name": "stdout",
     "output_type": "stream",
     "text": [
      "📝 최종 이력서 내용:\n",
      " 박수범 (AI·풀스택 개발자)  \n",
      "연락처 010-2898-3951 · qkrtnqja97@gmail.com · GitHub https://github.com/qkrtnqja97  \n",
      "\n",
      "[핵심 역량]  \n",
      "• Python 기반 머신러닝·딥러닝 모델 설계·개발·평가·배포 전 과정 수행  \n",
      "• Stable Diffusion 등 생성형 AI 파이프라인 커스터마이징 및 서비스화 경험  \n",
      "• AWS(EC2, S3, ECR, EKS) + Kubernetes로 MLOps 환경 구축·운영  \n",
      "• React/React Native 프론트엔드부터 임베디드(Arduino/ESP32) 연동까지 풀스택 역량  \n",
      "\n",
      "[주요 프로젝트]  \n",
      "1. 도로 균열 예측 시스템 (중앙대학교 산학협력단, 2022.03–12)  \n",
      " - Python·OpenCV·scikit-learn 기반 데이터 수집·전처리·머신러닝 파이프라인 설계  \n",
      " - Random Forest 모델 적용 후 예측 정확도 87% 달성  \n",
      " - FastAPI REST API로 서비스화, Docker 이미지화하여 AWS EKS에 배포 (평균 응답 시간 200ms 이하)  \n",
      " - D3.js·Vue.js 기반 시각화 대시보드 제작, 사용자 피드백 30건 반영 개선  \n",
      "\n",
      "2. Stable Diffusion 기반 이미지 생성 서비스 (개인 프로젝트, 2023.07–현재)  \n",
      " - Hugging Face 오픈소스 모델에 LoRA·ControlNet 기법 적용, 도메인별 커스텀 튜닝  \n",
      " - FastAPI + gRPC로 추론 서버 구현, AWS S3에 모델·데이터 저장, EKS로 오토스케일링 배포  \n",
      " - React Native 앱 연동 후 App Store·Play Store 동시 출시, 월간 1,200+건 이미지 생성 요청 처리  \n",
      "\n",
      "3. 모듈러 Mixture-of-Experts(모듈형 레이어) LLM 실험 (개인 연구)  \n",
      " - Transformer 기반 LLM에 MoE 아키텍처 적용, GPU 클러스터 분산 추론 파이프라인 구축  \n",
      " - 추론 속도 30% 개선, 모델별 모듈 스위칭으로 비용 효율성 검증  \n",
      "\n",
      "4. KAIST App 창업 프로젝트 (프론트엔드 파트장, 2021.05–12)  \n",
      " - UI/UX 설계 및 React Native 앱 개발 총괄, AAB 빌드·구글 플레이·앱스토어 배포  \n",
      " - RESTful API 설계·연동, Beta 테스트 참여율 75% 기록  \n",
      "\n",
      "5. Tamwood Web Developer Co-op (캐나다, 2023.05–10)  \n",
      " - 영어 기반 프론트엔드 집중 교육 수료 및 현지 개발팀과 협업  \n",
      " - React 프로젝트에 Git 워크플로우 표준화 도입, 코드 리뷰 프로세스 개선  \n",
      "\n",
      "[기술 스택]  \n",
      "- 언어 : Python, JavaScript(ES6+)  \n",
      "- 프레임워크 : PyTorch, TensorFlow, Hugging Face, FastAPI, React, React Native  \n",
      "- 클라우드 : AWS EC2, S3, ECR, EKS  \n",
      "- 컨테이너/오케스트레이션 : Docker, Kubernetes  \n",
      "- 데이터베이스 : MySQL  \n",
      "- 기타 : OpenCV, LoRA, ControlNet, CI/CD(GitHub Actions)  \n",
      "\n",
      "[강점 및 포부]  \n",
      "- 문제 정의→기획→개발→배포→모니터링까지 책임지는 ‘풀스택 AI 개발자’  \n",
      "- 사용성·비즈니스 가치를 고려한 솔루션 설계, 실서비스 경험에서 나오는 즉각적 개선 역량  \n",
      "- 낯선 기술도 빠르게 학습·적용하여 제품 경쟁력을 높이는 데 기여하고 싶습니다.\n"
     ]
    }
   ],
   "source": [
    "user_additional_info = \"나 ai 관련해서는 스테이블디퓨젼 기반 모델에 다양한 모델을 적용해보고, 실제 원하는 서비스와 가능여부를 판단해봤어. 그리고 요즘에는 모듈러 레그를 사용해보고 있어.\" \\\n",
    "\"실제 배포 경험도 있고, 어플을 출시해봤어.인프라는 aws 기반으로 구축해봤고, kubernetes도 사용해봤어.\"\n",
    "\n",
    "final_resume_content = generate_final_resume_content(\n",
    "    target_job=target_job,\n",
    "    resume_summary=summary,\n",
    "    user_input_detail=user_additional_info\n",
    ")\n",
    "print(\"📝 최종 이력서 내용:\\n\", final_resume_content)"
   ]
  },
  {
   "cell_type": "code",
   "execution_count": 15,
   "id": "d064f7b7",
   "metadata": {},
   "outputs": [
    {
     "name": "stdout",
     "output_type": "stream",
     "text": [
      "📝 최종 이력서 내용:\n",
      " 박수범 (AI·풀스택 개발자)  \n",
      "연락처 010-2898-3951 · qkrtnqja97@gmail.com · GitHub https://github.com/qkrtnqja97  \n",
      "\n",
      "[핵심 역량]  \n",
      "• Python 기반 머신러닝·딥러닝 모델 설계·개발·평가·배포 전 과정 수행  \n",
      "• Stable Diffusion 등 생성형 AI 파이프라인 커스터마이징 및 서비스화 경험  \n",
      "• AWS(EC2, S3, ECR, EKS) + Kubernetes로 MLOps 환경 구축·운영  \n",
      "• React/React Native 프론트엔드부터 임베디드(Arduino/ESP32) 연동까지 풀스택 역량  \n",
      "\n",
      "[주요 프로젝트]  \n",
      "1. 도로 균열 예측 시스템 (중앙대학교 산학협력단, 2022.03–12)  \n",
      " - Python·OpenCV·scikit-learn 기반 데이터 수집·전처리·머신러닝 파이프라인 설계  \n",
      " - Random Forest 모델 적용 후 예측 정확도 87% 달성  \n",
      " - FastAPI REST API로 서비스화, Docker 이미지화하여 AWS EKS에 배포 (평균 응답 시간 200ms 이하)  \n",
      " - D3.js·Vue.js 기반 시각화 대시보드 제작, 사용자 피드백 30건 반영 개선  \n",
      "\n",
      "2. Stable Diffusion 기반 이미지 생성 서비스 (개인 프로젝트, 2023.07–현재)  \n",
      " - Hugging Face 오픈소스 모델에 LoRA·ControlNet 기법 적용, 도메인별 커스텀 튜닝  \n",
      " - FastAPI + gRPC로 추론 서버 구현, AWS S3에 모델·데이터 저장, EKS로 오토스케일링 배포  \n",
      " - React Native 앱 연동 후 App Store·Play Store 동시 출시, 월간 1,200+건 이미지 생성 요청 처리  \n",
      "\n",
      "3. 모듈러 Mixture-of-Experts(모듈형 레이어) LLM 실험 (개인 연구)  \n",
      " - Transformer 기반 LLM에 MoE 아키텍처 적용, GPU 클러스터 분산 추론 파이프라인 구축  \n",
      " - 추론 속도 30% 개선, 모델별 모듈 스위칭으로 비용 효율성 검증  \n",
      "\n",
      "4. KAIST App 창업 프로젝트 (프론트엔드 파트장, 2021.05–12)  \n",
      " - UI/UX 설계 및 React Native 앱 개발 총괄, AAB 빌드·구글 플레이·앱스토어 배포  \n",
      " - RESTful API 설계·연동, Beta 테스트 참여율 75% 기록  \n",
      "\n",
      "5. Tamwood Web Developer Co-op (캐나다, 2023.05–10)  \n",
      " - 영어 기반 프론트엔드 집중 교육 수료 및 현지 개발팀과 협업  \n",
      " - React 프로젝트에 Git 워크플로우 표준화 도입, 코드 리뷰 프로세스 개선  \n",
      "\n",
      "[기술 스택]  \n",
      "- 언어 : Python, JavaScript(ES6+)  \n",
      "- 프레임워크 : PyTorch, TensorFlow, Hugging Face, FastAPI, React, React Native  \n",
      "- 클라우드 : AWS EC2, S3, ECR, EKS  \n",
      "- 컨테이너/오케스트레이션 : Docker, Kubernetes  \n",
      "- 데이터베이스 : MySQL  \n",
      "- 기타 : OpenCV, LoRA, ControlNet, CI/CD(GitHub Actions)  \n",
      "\n",
      "[강점 및 포부]  \n",
      "- 문제 정의→기획→개발→배포→모니터링까지 책임지는 ‘풀스택 AI 개발자’  \n",
      "- 사용성·비즈니스 가치를 고려한 솔루션 설계, 실서비스 경험에서 나오는 즉각적 개선 역량  \n",
      "- 낯선 기술도 빠르게 학습·적용하여 제품 경쟁력을 높이는 데 기여하고 싶습니다.\n"
     ]
    }
   ],
   "source": [
    "print(\"📝 최종 이력서 내용:\\n\", final_resume_content)"
   ]
  },
  {
   "cell_type": "code",
   "execution_count": 17,
   "id": "9fb495de",
   "metadata": {},
   "outputs": [],
   "source": [
    "import json\n",
    "\n",
    "def save_final_output_json(\n",
    "    target_job: str,\n",
    "    resume_summary: str,\n",
    "    user_input_detail: str,\n",
    "    final_generated_text: str,\n",
    "    save_path: str = \"./final_resume_output.json\"\n",
    "):\n",
    "    data = {\n",
    "        \"target_job\": target_job,\n",
    "        \"resume_summary\": resume_summary,\n",
    "        \"user_input_detail\": user_input_detail,\n",
    "        \"final_generated_text\": final_generated_text\n",
    "    }\n",
    "\n",
    "    # 디렉토리 없으면 생성\n",
    "    os.makedirs(os.path.dirname(save_path), exist_ok=True)\n",
    "\n",
    "    with open(save_path, \"w\", encoding=\"utf-8\") as f:\n",
    "        json.dump(data, f, ensure_ascii=False, indent=2)\n",
    "\n",
    "    print(f\"✅ 최종 결과 저장 완료: {save_path}\")\n"
   ]
  },
  {
   "cell_type": "code",
   "execution_count": 18,
   "id": "84408499",
   "metadata": {},
   "outputs": [
    {
     "name": "stdout",
     "output_type": "stream",
     "text": [
      "✅ 최종 결과 저장 완료: ./final_resume_output.json\n"
     ]
    }
   ],
   "source": [
    "# 3. 질문에 대한 답변 생성\n",
    "save_final_output_json(\n",
    "    target_job=target_job,\n",
    "    resume_summary=summary,\n",
    "    user_input_detail=user_additional_info,\n",
    "    final_generated_text=final_resume_content,\n",
    "    save_path=\"./final_resume_output.json\"\n",
    ") "
   ]
  }
 ],
 "metadata": {
  "kernelspec": {
   "display_name": "rounders",
   "language": "python",
   "name": "python3"
  },
  "language_info": {
   "codemirror_mode": {
    "name": "ipython",
    "version": 3
   },
   "file_extension": ".py",
   "mimetype": "text/x-python",
   "name": "python",
   "nbconvert_exporter": "python",
   "pygments_lexer": "ipython3",
   "version": "3.10.18"
  }
 },
 "nbformat": 4,
 "nbformat_minor": 5
}
